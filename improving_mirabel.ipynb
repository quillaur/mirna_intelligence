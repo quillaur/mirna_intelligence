{
 "cells": [
  {
   "cell_type": "markdown",
   "metadata": {},
   "source": [
    "Can I improve miRabel by using machine learning ?"
   ]
  },
  {
   "cell_type": "markdown",
   "metadata": {},
   "source": [
    "# Dataset Creation"
   ]
  },
  {
   "cell_type": "code",
   "execution_count": 242,
   "metadata": {},
   "outputs": [],
   "source": [
    "import pandas as pd\n",
    "import numpy as np\n",
    "import pymysql.cursors\n",
    "from sklearn.metrics import roc_curve, auc, accuracy_score, precision_score, recall_score\n",
    "import matplotlib.pyplot as plt"
   ]
  },
  {
   "cell_type": "code",
   "execution_count": 243,
   "metadata": {},
   "outputs": [],
   "source": [
    "with open(\"config.cfg\", \"r\") as cfg_file:\n",
    "    username, password = [line.split(\":\")[1].strip() for line in cfg_file.readlines()]\n"
   ]
  },
  {
   "cell_type": "code",
   "execution_count": 244,
   "metadata": {},
   "outputs": [],
   "source": [
    "interactions_number = 10000\n",
    "# Connect to the database\n",
    "connection = pymysql.connect(host='localhost',\n",
    "                             user=username,\n",
    "                             password=password,\n",
    "                             database=\"mir_predictions\",\n",
    "                             cursorclass=pymysql.cursors.DictCursor)\n",
    "\n",
    "with connection:\n",
    "    with connection.cursor() as cursor:\n",
    "        # Read a single record\n",
    "        cursor.execute(f\"SELECT * FROM Predictions limit {interactions_number}\")\n",
    "        result = cursor.fetchall()"
   ]
  },
  {
   "cell_type": "code",
   "execution_count": 245,
   "metadata": {},
   "outputs": [],
   "source": [
    "df = pd.DataFrame(result)\n",
    "# Remove columns with all values missing.\n",
    "df.dropna(axis=1, how='all', inplace=True)\n",
    "# Impute remaining missing values with the maximum value for that column.\n",
    "df.fillna(df.max(), downcast='infer', inplace=True)"
   ]
  },
  {
   "cell_type": "code",
   "execution_count": 246,
   "metadata": {},
   "outputs": [],
   "source": [
    "df[\"UTR3\"] = df.apply(lambda x: 1 if x.UTR5 == 0 and x.CDS == 0 else 0, axis=1)"
   ]
  },
  {
   "cell_type": "code",
   "execution_count": 247,
   "metadata": {},
   "outputs": [],
   "source": [
    "df.sort_values(by=[\"score\"], inplace=True)"
   ]
  },
  {
   "cell_type": "code",
   "execution_count": 248,
   "metadata": {},
   "outputs": [
    {
     "data": {
      "text/plain": [
       "(10000, 10)"
      ]
     },
     "execution_count": 248,
     "metadata": {},
     "output_type": "execute_result"
    }
   ],
   "source": [
    "df.shape"
   ]
  },
  {
   "cell_type": "code",
   "execution_count": 249,
   "metadata": {},
   "outputs": [
    {
     "data": {
      "text/html": [
       "<div>\n",
       "<style scoped>\n",
       "    .dataframe tbody tr th:only-of-type {\n",
       "        vertical-align: middle;\n",
       "    }\n",
       "\n",
       "    .dataframe tbody tr th {\n",
       "        vertical-align: top;\n",
       "    }\n",
       "\n",
       "    .dataframe thead th {\n",
       "        text-align: right;\n",
       "    }\n",
       "</style>\n",
       "<table border=\"1\" class=\"dataframe\">\n",
       "  <thead>\n",
       "    <tr style=\"text-align: right;\">\n",
       "      <th></th>\n",
       "      <th>mimat</th>\n",
       "      <th>id_g</th>\n",
       "      <th>posMiRanda</th>\n",
       "      <th>posPita</th>\n",
       "      <th>posTargetscan</th>\n",
       "      <th>score</th>\n",
       "      <th>UTR5</th>\n",
       "      <th>CDS</th>\n",
       "      <th>VALID</th>\n",
       "      <th>UTR3</th>\n",
       "    </tr>\n",
       "  </thead>\n",
       "  <tbody>\n",
       "    <tr>\n",
       "      <th>4783</th>\n",
       "      <td>62</td>\n",
       "      <td>54619</td>\n",
       "      <td>6</td>\n",
       "      <td>213</td>\n",
       "      <td>46</td>\n",
       "      <td>0.046522</td>\n",
       "      <td>0</td>\n",
       "      <td>1</td>\n",
       "      <td>0</td>\n",
       "      <td>0</td>\n",
       "    </tr>\n",
       "    <tr>\n",
       "      <th>6466</th>\n",
       "      <td>62</td>\n",
       "      <td>84240</td>\n",
       "      <td>225</td>\n",
       "      <td>54</td>\n",
       "      <td>17</td>\n",
       "      <td>0.046579</td>\n",
       "      <td>0</td>\n",
       "      <td>0</td>\n",
       "      <td>1</td>\n",
       "      <td>1</td>\n",
       "    </tr>\n",
       "    <tr>\n",
       "      <th>9603</th>\n",
       "      <td>63</td>\n",
       "      <td>2628</td>\n",
       "      <td>35</td>\n",
       "      <td>137</td>\n",
       "      <td>107</td>\n",
       "      <td>0.046661</td>\n",
       "      <td>0</td>\n",
       "      <td>1</td>\n",
       "      <td>1</td>\n",
       "      <td>0</td>\n",
       "    </tr>\n",
       "    <tr>\n",
       "      <th>7105</th>\n",
       "      <td>62</td>\n",
       "      <td>121227</td>\n",
       "      <td>3</td>\n",
       "      <td>283</td>\n",
       "      <td>12</td>\n",
       "      <td>0.047154</td>\n",
       "      <td>0</td>\n",
       "      <td>1</td>\n",
       "      <td>1</td>\n",
       "      <td>0</td>\n",
       "    </tr>\n",
       "    <tr>\n",
       "      <th>5247</th>\n",
       "      <td>62</td>\n",
       "      <td>55972</td>\n",
       "      <td>44</td>\n",
       "      <td>45</td>\n",
       "      <td>254</td>\n",
       "      <td>0.047950</td>\n",
       "      <td>0</td>\n",
       "      <td>0</td>\n",
       "      <td>0</td>\n",
       "      <td>1</td>\n",
       "    </tr>\n",
       "    <tr>\n",
       "      <th>2430</th>\n",
       "      <td>62</td>\n",
       "      <td>8491</td>\n",
       "      <td>0</td>\n",
       "      <td>317</td>\n",
       "      <td>44</td>\n",
       "      <td>0.048381</td>\n",
       "      <td>0</td>\n",
       "      <td>1</td>\n",
       "      <td>0</td>\n",
       "      <td>0</td>\n",
       "    </tr>\n",
       "    <tr>\n",
       "      <th>3999</th>\n",
       "      <td>62</td>\n",
       "      <td>23670</td>\n",
       "      <td>89</td>\n",
       "      <td>82</td>\n",
       "      <td>214</td>\n",
       "      <td>0.048638</td>\n",
       "      <td>0</td>\n",
       "      <td>0</td>\n",
       "      <td>0</td>\n",
       "      <td>1</td>\n",
       "    </tr>\n",
       "    <tr>\n",
       "      <th>755</th>\n",
       "      <td>62</td>\n",
       "      <td>2628</td>\n",
       "      <td>36</td>\n",
       "      <td>282</td>\n",
       "      <td>107</td>\n",
       "      <td>0.049533</td>\n",
       "      <td>0</td>\n",
       "      <td>0</td>\n",
       "      <td>1</td>\n",
       "      <td>1</td>\n",
       "    </tr>\n",
       "    <tr>\n",
       "      <th>3313</th>\n",
       "      <td>62</td>\n",
       "      <td>10643</td>\n",
       "      <td>102</td>\n",
       "      <td>162</td>\n",
       "      <td>197</td>\n",
       "      <td>0.050097</td>\n",
       "      <td>0</td>\n",
       "      <td>0</td>\n",
       "      <td>1</td>\n",
       "      <td>1</td>\n",
       "    </tr>\n",
       "    <tr>\n",
       "      <th>8548</th>\n",
       "      <td>62</td>\n",
       "      <td>401265</td>\n",
       "      <td>163</td>\n",
       "      <td>101</td>\n",
       "      <td>220</td>\n",
       "      <td>0.050442</td>\n",
       "      <td>1</td>\n",
       "      <td>0</td>\n",
       "      <td>0</td>\n",
       "      <td>0</td>\n",
       "    </tr>\n",
       "  </tbody>\n",
       "</table>\n",
       "</div>"
      ],
      "text/plain": [
       "      mimat    id_g  posMiRanda  posPita  posTargetscan     score  UTR5  CDS  \\\n",
       "4783     62   54619           6      213             46  0.046522     0    1   \n",
       "6466     62   84240         225       54             17  0.046579     0    0   \n",
       "9603     63    2628          35      137            107  0.046661     0    1   \n",
       "7105     62  121227           3      283             12  0.047154     0    1   \n",
       "5247     62   55972          44       45            254  0.047950     0    0   \n",
       "2430     62    8491           0      317             44  0.048381     0    1   \n",
       "3999     62   23670          89       82            214  0.048638     0    0   \n",
       "755      62    2628          36      282            107  0.049533     0    0   \n",
       "3313     62   10643         102      162            197  0.050097     0    0   \n",
       "8548     62  401265         163      101            220  0.050442     1    0   \n",
       "\n",
       "      VALID  UTR3  \n",
       "4783      0     0  \n",
       "6466      1     1  \n",
       "9603      1     0  \n",
       "7105      1     0  \n",
       "5247      0     1  \n",
       "2430      0     0  \n",
       "3999      0     1  \n",
       "755       1     1  \n",
       "3313      1     1  \n",
       "8548      0     0  "
      ]
     },
     "execution_count": 249,
     "metadata": {},
     "output_type": "execute_result"
    }
   ],
   "source": [
    "df.head(10)"
   ]
  },
  {
   "cell_type": "code",
   "execution_count": 250,
   "metadata": {},
   "outputs": [],
   "source": [
    "target = df[\"VALID\"]\n",
    "min_drop = [\"mimat\", \"id_g\", \"VALID\"]\n",
    "max_drop = [\"mimat\", \"id_g\", \"VALID\", \"UTR5\", \"CDS\", \"UTR3\"]\n",
    "data = df.drop(max_drop, axis=1)"
   ]
  },
  {
   "cell_type": "code",
   "execution_count": 251,
   "metadata": {},
   "outputs": [
    {
     "data": {
      "text/plain": [
       "0    9356\n",
       "1     644\n",
       "Name: VALID, dtype: int64"
      ]
     },
     "execution_count": 251,
     "metadata": {},
     "output_type": "execute_result"
    }
   ],
   "source": [
    "target.value_counts()"
   ]
  },
  {
   "cell_type": "code",
   "execution_count": 252,
   "metadata": {},
   "outputs": [
    {
     "data": {
      "text/plain": [
       "{0: 0.9356, 1: 0.0644}"
      ]
     },
     "execution_count": 252,
     "metadata": {},
     "output_type": "execute_result"
    }
   ],
   "source": [
    "class_weights = {\n",
    "    0: target.value_counts()[0]/target.shape[0], \n",
    "    1: target.value_counts()[1]/target.shape[0]\n",
    "    }\n",
    "class_weights"
   ]
  },
  {
   "cell_type": "markdown",
   "metadata": {},
   "source": [
    "## Outliers detection"
   ]
  },
  {
   "cell_type": "code",
   "execution_count": 253,
   "metadata": {},
   "outputs": [],
   "source": [
    "# from sklearn.ensemble import IsolationForest\n",
    "# from sklearn.model_selection import GridSearchCV"
   ]
  },
  {
   "cell_type": "code",
   "execution_count": 254,
   "metadata": {},
   "outputs": [],
   "source": [
    "# data.head()"
   ]
  },
  {
   "cell_type": "code",
   "execution_count": 255,
   "metadata": {},
   "outputs": [],
   "source": [
    "# parameters = {\n",
    "#     'n_estimators': [500, 800],\n",
    "#     'max_samples': [10], \n",
    "#     'contamination': [0.01, 0.05]\n",
    "# }\n",
    "\n",
    "# gs_outlier_remover = GridSearchCV(\n",
    "#     IsolationForest(),\n",
    "#     param_grid = parameters,\n",
    "#     scoring=\"roc_auc\"\n",
    "# )\n",
    "# gs_outlier_remover.fit(data, target)\n",
    "# outliers = gs_outlier_remover.predict(data) == -1\n",
    "# normal_samples = gs_outlier_remover.predict(data) == 1"
   ]
  },
  {
   "cell_type": "code",
   "execution_count": 256,
   "metadata": {},
   "outputs": [],
   "source": [
    "# pd.DataFrame(gs_outlier_remover.cv_results_).sort_values(by=[\"rank_test_score\"], ascending=True)"
   ]
  },
  {
   "cell_type": "code",
   "execution_count": 257,
   "metadata": {},
   "outputs": [],
   "source": [
    "# print(gs_outlier_remover.best_estimator_)"
   ]
  },
  {
   "cell_type": "code",
   "execution_count": 258,
   "metadata": {},
   "outputs": [],
   "source": [
    "# data[outliers].shape"
   ]
  },
  {
   "cell_type": "code",
   "execution_count": 259,
   "metadata": {},
   "outputs": [],
   "source": [
    "# data = data[normal_samples]\n",
    "# target = target[normal_samples]"
   ]
  },
  {
   "cell_type": "code",
   "execution_count": 260,
   "metadata": {},
   "outputs": [],
   "source": [
    "# data.shape"
   ]
  },
  {
   "cell_type": "markdown",
   "metadata": {},
   "source": [
    "# ROC analysis"
   ]
  },
  {
   "cell_type": "code",
   "execution_count": 261,
   "metadata": {},
   "outputs": [],
   "source": [
    "def roc_metrics(truth, pred_score):\n",
    "    fpr, tpr, threshold = roc_curve(truth, pred_score)\n",
    "    specificity = 1 - fpr\n",
    "    sensibility = 1 - tpr\n",
    "    roc_auc = auc(specificity, sensibility)\n",
    "    return (specificity, sensibility, roc_auc, threshold)"
   ]
  },
  {
   "cell_type": "code",
   "execution_count": 262,
   "metadata": {},
   "outputs": [],
   "source": [
    "specificity, sensibility, roc_auc, threshold = roc_metrics(target, data[\"score\"])"
   ]
  },
  {
   "cell_type": "code",
   "execution_count": 263,
   "metadata": {},
   "outputs": [],
   "source": [
    "def plot_roc_curve(truth, pred_score, name):\n",
    "    specificity, sensibility, roc_auc, threshold = roc_metrics(truth, pred_score)\n",
    "    plt.figure()\n",
    "    lw = 2\n",
    "    plt.plot(\n",
    "        specificity,\n",
    "        sensibility,\n",
    "        color=\"darkorange\",\n",
    "        lw=lw,\n",
    "        label=\"ROC curve (area = %0.2f)\" % roc_auc,\n",
    "    )\n",
    "    plt.plot([0, 1], [0, 1], color=\"navy\", lw=lw, linestyle=\"--\")\n",
    "    plt.xlim([0.0, 1.0])\n",
    "    plt.ylim([0.0, 1.05])\n",
    "    plt.xlabel(\"Specificity\")\n",
    "    plt.ylabel(\"Sensibility\")\n",
    "    plt.suptitle(name)\n",
    "    plt.title(\"Receiver operating characteristic\")\n",
    "    plt.legend(loc=\"lower right\")\n",
    "    plt.show()"
   ]
  },
  {
   "cell_type": "code",
   "execution_count": 264,
   "metadata": {},
   "outputs": [
    {
     "data": {
      "image/png": "[encoded data removed]",
      "text/plain": [
       "<Figure size 432x288 with 1 Axes>"
      ]
     },
     "metadata": {
      "needs_background": "light"
     },
     "output_type": "display_data"
    }
   ],
   "source": [
    "plot_roc_curve(target, data[\"score\"], \"miRabel\")"
   ]
  },
  {
   "cell_type": "markdown",
   "metadata": {},
   "source": [
    "# Feature selection"
   ]
  },
  {
   "cell_type": "code",
   "execution_count": 265,
   "metadata": {},
   "outputs": [],
   "source": [
    "from sklearn.preprocessing import StandardScaler\n",
    "from sklearn.decomposition import PCA\n",
    "import plotly.express as px"
   ]
  },
  {
   "cell_type": "code",
   "execution_count": 266,
   "metadata": {},
   "outputs": [
    {
     "data": {
      "text/plain": [
       "PCA()"
      ]
     },
     "execution_count": 266,
     "metadata": {},
     "output_type": "execute_result"
    }
   ],
   "source": [
    "data_std = StandardScaler().fit_transform(data)\n",
    "pca = PCA()\n",
    "pca.fit(data_std)"
   ]
  },
  {
   "cell_type": "code",
   "execution_count": 267,
   "metadata": {},
   "outputs": [
    {
     "data": {
      "application/vnd.plotly.v1+json": {
       "config": {
        "plotlyServerURL": "https://plot.ly"
       },
       "data": [
        {
         "fillpattern": {
          "shape": ""
         },
         "hovertemplate": "# Components=%{x}<br>Explained Variance=%{y}<extra></extra>",
         "legendgroup": "",
         "line": {
          "color": "#636efa"
         },
         "marker": {
          "symbol": "circle"
         },
         "mode": "lines",
         "name": "",
         "orientation": "v",
         "showlegend": false,
         "stackgroup": "1",
         "type": "scatter",
         "x": [
          1,
          2,
          3,
          4
         ],
         "xaxis": "x",
         "y": [
          0.5837921553739478,
          0.8342347051284489,
          0.9792502027369752,
          1
         ],
         "yaxis": "y"
        }
       ],
       "layout": {
        "legend": {
         "tracegroupgap": 0
        },
        "margin": {
         "t": 60
        },
        "template": {
         "data": {
          "bar": [
           {
            "error_x": {
             "color": "#2a3f5f"
            },
            "error_y": {
             "color": "#2a3f5f"
            },
            "marker": {
             "line": {
              "color": "#E5ECF6",
              "width": 0.5
             },
             "pattern": {
              "fillmode": "overlay",
              "size": 10,
              "solidity": 0.2
             }
            },
            "type": "bar"
           }
          ],
          "barpolar": [
           {
            "marker": {
             "line": {
              "color": "#E5ECF6",
              "width": 0.5
             },
             "pattern": {
              "fillmode": "overlay",
              "size": 10,
              "solidity": 0.2
             }
            },
            "type": "barpolar"
           }
          ],
          "carpet": [
           {
            "aaxis": {
             "endlinecolor": "#2a3f5f",
             "gridcolor": "white",
             "linecolor": "white",
             "minorgridcolor": "white",
             "startlinecolor": "#2a3f5f"
            },
            "baxis": {
             "endlinecolor": "#2a3f5f",
             "gridcolor": "white",
             "linecolor": "white",
             "minorgridcolor": "white",
             "startlinecolor": "#2a3f5f"
            },
            "type": "carpet"
           }
          ],
          "choropleth": [
           {
            "colorbar": {
             "outlinewidth": 0,
             "ticks": ""
            },
            "type": "choropleth"
           }
          ],
          "contour": [
           {
            "colorbar": {
             "outlinewidth": 0,
             "ticks": ""
            },
            "colorscale": [
             [
              0,
              "#0d0887"
             ],
             [
              0.1111111111111111,
              "#46039f"
             ],
             [
              0.2222222222222222,
              "#7201a8"
             ],
             [
              0.3333333333333333,
              "#9c179e"
             ],
             [
              0.4444444444444444,
              "#bd3786"
             ],
             [
              0.5555555555555556,
              "#d8576b"
             ],
             [
              0.6666666666666666,
              "#ed7953"
             ],
             [
              0.7777777777777778,
              "#fb9f3a"
             ],
             [
              0.8888888888888888,
              "#fdca26"
             ],
             [
              1,
              "#f0f921"
             ]
            ],
            "type": "contour"
           }
          ],
          "contourcarpet": [
           {
            "colorbar": {
             "outlinewidth": 0,
             "ticks": ""
            },
            "type": "contourcarpet"
           }
          ],
          "heatmap": [
           {
            "colorbar": {
             "outlinewidth": 0,
             "ticks": ""
            },
            "colorscale": [
             [
              0,
              "#0d0887"
             ],
             [
              0.1111111111111111,
              "#46039f"
             ],
             [
              0.2222222222222222,
              "#7201a8"
             ],
             [
              0.3333333333333333,
              "#9c179e"
             ],
             [
              0.4444444444444444,
              "#bd3786"
             ],
             [
              0.5555555555555556,
              "#d8576b"
             ],
             [
              0.6666666666666666,
              "#ed7953"
             ],
             [
              0.7777777777777778,
              "#fb9f3a"
             ],
             [
              0.8888888888888888,
              "#fdca26"
             ],
             [
              1,
              "#f0f921"
             ]
            ],
            "type": "heatmap"
           }
          ],
          "heatmapgl": [
           {
            "colorbar": {
             "outlinewidth": 0,
             "ticks": ""
            },
            "colorscale": [
             [
              0,
              "#0d0887"
             ],
             [
              0.1111111111111111,
              "#46039f"
             ],
             [
              0.2222222222222222,
              "#7201a8"
             ],
             [
              0.3333333333333333,
              "#9c179e"
             ],
             [
              0.4444444444444444,
              "#bd3786"
             ],
             [
              0.5555555555555556,
              "#d8576b"
             ],
             [
              0.6666666666666666,
              "#ed7953"
             ],
             [
              0.7777777777777778,
              "#fb9f3a"
             ],
             [
              0.8888888888888888,
              "#fdca26"
             ],
             [
              1,
              "#f0f921"
             ]
            ],
            "type": "heatmapgl"
           }
          ],
          "histogram": [
           {
            "marker": {
             "pattern": {
              "fillmode": "overlay",
              "size": 10,
              "solidity": 0.2
             }
            },
            "type": "histogram"
           }
          ],
          "histogram2d": [
           {
            "colorbar": {
             "outlinewidth": 0,
             "ticks": ""
            },
            "colorscale": [
             [
              0,
              "#0d0887"
             ],
             [
              0.1111111111111111,
              "#46039f"
             ],
             [
              0.2222222222222222,
              "#7201a8"
             ],
             [
              0.3333333333333333,
              "#9c179e"
             ],
             [
              0.4444444444444444,
              "#bd3786"
             ],
             [
              0.5555555555555556,
              "#d8576b"
             ],
             [
              0.6666666666666666,
              "#ed7953"
             ],
             [
              0.7777777777777778,
              "#fb9f3a"
             ],
             [
              0.8888888888888888,
              "#fdca26"
             ],
             [
              1,
              "#f0f921"
             ]
            ],
            "type": "histogram2d"
           }
          ],
          "histogram2dcontour": [
           {
            "colorbar": {
             "outlinewidth": 0,
             "ticks": ""
            },
            "colorscale": [
             [
              0,
              "#0d0887"
             ],
             [
              0.1111111111111111,
              "#46039f"
             ],
             [
              0.2222222222222222,
              "#7201a8"
             ],
             [
              0.3333333333333333,
              "#9c179e"
             ],
             [
              0.4444444444444444,
              "#bd3786"
             ],
             [
              0.5555555555555556,
              "#d8576b"
             ],
             [
              0.6666666666666666,
              "#ed7953"
             ],
             [
              0.7777777777777778,
              "#fb9f3a"
             ],
             [
              0.8888888888888888,
              "#fdca26"
             ],
             [
              1,
              "#f0f921"
             ]
            ],
            "type": "histogram2dcontour"
           }
          ],
          "mesh3d": [
           {
            "colorbar": {
             "outlinewidth": 0,
             "ticks": ""
            },
            "type": "mesh3d"
           }
          ],
          "parcoords": [
           {
            "line": {
             "colorbar": {
              "outlinewidth": 0,
              "ticks": ""
             }
            },
            "type": "parcoords"
           }
          ],
          "pie": [
           {
            "automargin": true,
            "type": "pie"
           }
          ],
          "scatter": [
           {
            "fillpattern": {
             "fillmode": "overlay",
             "size": 10,
             "solidity": 0.2
            },
            "type": "scatter"
           }
          ],
          "scatter3d": [
           {
            "line": {
             "colorbar": {
              "outlinewidth": 0,
              "ticks": ""
             }
            },
            "marker": {
             "colorbar": {
              "outlinewidth": 0,
              "ticks": ""
             }
            },
            "type": "scatter3d"
           }
          ],
          "scattercarpet": [
           {
            "marker": {
             "colorbar": {
              "outlinewidth": 0,
              "ticks": ""
             }
            },
            "type": "scattercarpet"
           }
          ],
          "scattergeo": [
           {
            "marker": {
             "colorbar": {
              "outlinewidth": 0,
              "ticks": ""
             }
            },
            "type": "scattergeo"
           }
          ],
          "scattergl": [
           {
            "marker": {
             "colorbar": {
              "outlinewidth": 0,
              "ticks": ""
             }
            },
            "type": "scattergl"
           }
          ],
          "scattermapbox": [
           {
            "marker": {
             "colorbar": {
              "outlinewidth": 0,
              "ticks": ""
             }
            },
            "type": "scattermapbox"
           }
          ],
          "scatterpolar": [
           {
            "marker": {
             "colorbar": {
              "outlinewidth": 0,
              "ticks": ""
             }
            },
            "type": "scatterpolar"
           }
          ],
          "scatterpolargl": [
           {
            "marker": {
             "colorbar": {
              "outlinewidth": 0,
              "ticks": ""
             }
            },
            "type": "scatterpolargl"
           }
          ],
          "scatterternary": [
           {
            "marker": {
             "colorbar": {
              "outlinewidth": 0,
              "ticks": ""
             }
            },
            "type": "scatterternary"
           }
          ],
          "surface": [
           {
            "colorbar": {
             "outlinewidth": 0,
             "ticks": ""
            },
            "colorscale": [
             [
              0,
              "#0d0887"
             ],
             [
              0.1111111111111111,
              "#46039f"
             ],
             [
              0.2222222222222222,
              "#7201a8"
             ],
             [
              0.3333333333333333,
              "#9c179e"
             ],
             [
              0.4444444444444444,
              "#bd3786"
             ],
             [
              0.5555555555555556,
              "#d8576b"
             ],
             [
              0.6666666666666666,
              "#ed7953"
             ],
             [
              0.7777777777777778,
              "#fb9f3a"
             ],
             [
              0.8888888888888888,
              "#fdca26"
             ],
             [
              1,
              "#f0f921"
             ]
            ],
            "type": "surface"
           }
          ],
          "table": [
           {
            "cells": {
             "fill": {
              "color": "#EBF0F8"
             },
             "line": {
              "color": "white"
             }
            },
            "header": {
             "fill": {
              "color": "#C8D4E3"
             },
             "line": {
              "color": "white"
             }
            },
            "type": "table"
           }
          ]
         },
         "layout": {
          "annotationdefaults": {
           "arrowcolor": "#2a3f5f",
           "arrowhead": 0,
           "arrowwidth": 1
          },
          "autotypenumbers": "strict",
          "coloraxis": {
           "colorbar": {
            "outlinewidth": 0,
            "ticks": ""
           }
          },
          "colorscale": {
           "diverging": [
            [
             0,
             "#8e0152"
            ],
            [
             0.1,
             "#c51b7d"
            ],
            [
             0.2,
             "#de77ae"
            ],
            [
             0.3,
             "#f1b6da"
            ],
            [
             0.4,
             "#fde0ef"
            ],
            [
             0.5,
             "#f7f7f7"
            ],
            [
             0.6,
             "#e6f5d0"
            ],
            [
             0.7,
             "#b8e186"
            ],
            [
             0.8,
             "#7fbc41"
            ],
            [
             0.9,
             "#4d9221"
            ],
            [
             1,
             "#276419"
            ]
           ],
           "sequential": [
            [
             0,
             "#0d0887"
            ],
            [
             0.1111111111111111,
             "#46039f"
            ],
            [
             0.2222222222222222,
             "#7201a8"
            ],
            [
             0.3333333333333333,
             "#9c179e"
            ],
            [
             0.4444444444444444,
             "#bd3786"
            ],
            [
             0.5555555555555556,
             "#d8576b"
            ],
            [
             0.6666666666666666,
             "#ed7953"
            ],
            [
             0.7777777777777778,
             "#fb9f3a"
            ],
            [
             0.8888888888888888,
             "#fdca26"
            ],
            [
             1,
             "#f0f921"
            ]
           ],
           "sequentialminus": [
            [
             0,
             "#0d0887"
            ],
            [
             0.1111111111111111,
             "#46039f"
            ],
            [
             0.2222222222222222,
             "#7201a8"
            ],
            [
             0.3333333333333333,
             "#9c179e"
            ],
            [
             0.4444444444444444,
             "#bd3786"
            ],
            [
             0.5555555555555556,
             "#d8576b"
            ],
            [
             0.6666666666666666,
             "#ed7953"
            ],
            [
             0.7777777777777778,
             "#fb9f3a"
            ],
            [
             0.8888888888888888,
             "#fdca26"
            ],
            [
             1,
             "#f0f921"
            ]
           ]
          },
          "colorway": [
           "#636efa",
           "#EF553B",
           "#00cc96",
           "#ab63fa",
           "#FFA15A",
           "#19d3f3",
           "#FF6692",
           "#B6E880",
           "#FF97FF",
           "#FECB52"
          ],
          "font": {
           "color": "#2a3f5f"
          },
          "geo": {
           "bgcolor": "white",
           "lakecolor": "white",
           "landcolor": "#E5ECF6",
           "showlakes": true,
           "showland": true,
           "subunitcolor": "white"
          },
          "hoverlabel": {
           "align": "left"
          },
          "hovermode": "closest",
          "mapbox": {
           "style": "light"
          },
          "paper_bgcolor": "white",
          "plot_bgcolor": "#E5ECF6",
          "polar": {
           "angularaxis": {
            "gridcolor": "white",
            "linecolor": "white",
            "ticks": ""
           },
           "bgcolor": "#E5ECF6",
           "radialaxis": {
            "gridcolor": "white",
            "linecolor": "white",
            "ticks": ""
           }
          },
          "scene": {
           "xaxis": {
            "backgroundcolor": "#E5ECF6",
            "gridcolor": "white",
            "gridwidth": 2,
            "linecolor": "white",
            "showbackground": true,
            "ticks": "",
            "zerolinecolor": "white"
           },
           "yaxis": {
            "backgroundcolor": "#E5ECF6",
            "gridcolor": "white",
            "gridwidth": 2,
            "linecolor": "white",
            "showbackground": true,
            "ticks": "",
            "zerolinecolor": "white"
           },
           "zaxis": {
            "backgroundcolor": "#E5ECF6",
            "gridcolor": "white",
            "gridwidth": 2,
            "linecolor": "white",
            "showbackground": true,
            "ticks": "",
            "zerolinecolor": "white"
           }
          },
          "shapedefaults": {
           "line": {
            "color": "#2a3f5f"
           }
          },
          "ternary": {
           "aaxis": {
            "gridcolor": "white",
            "linecolor": "white",
            "ticks": ""
           },
           "baxis": {
            "gridcolor": "white",
            "linecolor": "white",
            "ticks": ""
           },
           "bgcolor": "#E5ECF6",
           "caxis": {
            "gridcolor": "white",
            "linecolor": "white",
            "ticks": ""
           }
          },
          "title": {
           "x": 0.05
          },
          "xaxis": {
           "automargin": true,
           "gridcolor": "white",
           "linecolor": "white",
           "ticks": "",
           "title": {
            "standoff": 15
           },
           "zerolinecolor": "white",
           "zerolinewidth": 2
          },
          "yaxis": {
           "automargin": true,
           "gridcolor": "white",
           "linecolor": "white",
           "ticks": "",
           "title": {
            "standoff": 15
           },
           "zerolinecolor": "white",
           "zerolinewidth": 2
          }
         }
        },
        "xaxis": {
         "anchor": "y",
         "domain": [
          0,
          1
         ],
         "title": {
          "text": "# Components"
         }
        },
        "yaxis": {
         "anchor": "x",
         "domain": [
          0,
          1
         ],
         "title": {
          "text": "Explained Variance"
         }
        }
       }
      }
     },
     "metadata": {},
     "output_type": "display_data"
    }
   ],
   "source": [
    "explained_variance_ratios = [r for r in np.cumsum(pca.explained_variance_ratio_) if r <= 1]\n",
    "px.area(\n",
    "    x=range(1, len(explained_variance_ratios)+1),\n",
    "    y=explained_variance_ratios,\n",
    "    labels={\"x\": \"# Components\", \"y\": \"Explained Variance\"}\n",
    ")"
   ]
  },
  {
   "cell_type": "markdown",
   "metadata": {},
   "source": [
    "# Model selection"
   ]
  },
  {
   "cell_type": "code",
   "execution_count": 268,
   "metadata": {},
   "outputs": [],
   "source": [
    "from sklearn.impute import KNNImputer, SimpleImputer\n",
    "from sklearn.preprocessing import StandardScaler\n",
    "from sklearn.model_selection import cross_validate\n",
    "from sklearn.pipeline import Pipeline\n",
    "from sklearn.model_selection import train_test_split\n",
    "from sklearn.svm import SVC\n",
    "from sklearn.svm import LinearSVC\n",
    "from sklearn.linear_model import LogisticRegression\n",
    "from sklearn.neighbors import KNeighborsClassifier\n",
    "from sklearn.tree import DecisionTreeClassifier\n",
    "from sklearn.ensemble import RandomForestClassifier, GradientBoostingClassifier\n",
    "from sklearn.naive_bayes import GaussianNB\n",
    "from sklearn.linear_model import Perceptron"
   ]
  },
  {
   "cell_type": "code",
   "execution_count": 269,
   "metadata": {},
   "outputs": [],
   "source": [
    "pipeline = Pipeline([\n",
    "    (\"imputer\", KNNImputer(n_neighbors=2)),\n",
    "    ('normalizer', StandardScaler()),\n",
    "    (\"dimension reduction\", PCA(n_components=0.9)),\n",
    "    ('clf', LogisticRegression()) \n",
    "])"
   ]
  },
  {
   "cell_type": "code",
   "execution_count": 270,
   "metadata": {},
   "outputs": [],
   "source": [
    "X_train, X_test, y_train, y_test = train_test_split(data, target, test_size = 0.4, random_state = 42)"
   ]
  },
  {
   "cell_type": "code",
   "execution_count": 271,
   "metadata": {},
   "outputs": [
    {
     "name": "stderr",
     "output_type": "stream",
     "text": [
      "/home/quillaur/streamlit_apps/lib/python3.8/site-packages/sklearn/metrics/_classification.py:1318: UndefinedMetricWarning:\n",
      "\n",
      "Precision is ill-defined and being set to 0.0 due to no predicted samples. Use `zero_division` parameter to control this behavior.\n",
      "\n",
      "/home/quillaur/streamlit_apps/lib/python3.8/site-packages/sklearn/metrics/_classification.py:1318: UndefinedMetricWarning:\n",
      "\n",
      "Precision is ill-defined and being set to 0.0 due to no predicted samples. Use `zero_division` parameter to control this behavior.\n",
      "\n",
      "/home/quillaur/streamlit_apps/lib/python3.8/site-packages/sklearn/metrics/_classification.py:1318: UndefinedMetricWarning:\n",
      "\n",
      "Precision is ill-defined and being set to 0.0 due to no predicted samples. Use `zero_division` parameter to control this behavior.\n",
      "\n",
      "/home/quillaur/streamlit_apps/lib/python3.8/site-packages/sklearn/metrics/_classification.py:1318: UndefinedMetricWarning:\n",
      "\n",
      "Precision is ill-defined and being set to 0.0 due to no predicted samples. Use `zero_division` parameter to control this behavior.\n",
      "\n",
      "/home/quillaur/streamlit_apps/lib/python3.8/site-packages/sklearn/metrics/_classification.py:1318: UndefinedMetricWarning:\n",
      "\n",
      "Precision is ill-defined and being set to 0.0 due to no predicted samples. Use `zero_division` parameter to control this behavior.\n",
      "\n",
      "/home/quillaur/streamlit_apps/lib/python3.8/site-packages/sklearn/metrics/_classification.py:1318: UndefinedMetricWarning:\n",
      "\n",
      "Precision is ill-defined and being set to 0.0 due to no predicted samples. Use `zero_division` parameter to control this behavior.\n",
      "\n",
      "/home/quillaur/streamlit_apps/lib/python3.8/site-packages/sklearn/metrics/_classification.py:1318: UndefinedMetricWarning:\n",
      "\n",
      "Precision is ill-defined and being set to 0.0 due to no predicted samples. Use `zero_division` parameter to control this behavior.\n",
      "\n",
      "/home/quillaur/streamlit_apps/lib/python3.8/site-packages/sklearn/metrics/_classification.py:1318: UndefinedMetricWarning:\n",
      "\n",
      "Precision is ill-defined and being set to 0.0 due to no predicted samples. Use `zero_division` parameter to control this behavior.\n",
      "\n",
      "/home/quillaur/streamlit_apps/lib/python3.8/site-packages/sklearn/metrics/_classification.py:1318: UndefinedMetricWarning:\n",
      "\n",
      "Precision is ill-defined and being set to 0.0 due to no predicted samples. Use `zero_division` parameter to control this behavior.\n",
      "\n",
      "/home/quillaur/streamlit_apps/lib/python3.8/site-packages/sklearn/metrics/_classification.py:1318: UndefinedMetricWarning:\n",
      "\n",
      "Precision is ill-defined and being set to 0.0 due to no predicted samples. Use `zero_division` parameter to control this behavior.\n",
      "\n",
      "/home/quillaur/streamlit_apps/lib/python3.8/site-packages/sklearn/metrics/_classification.py:1318: UndefinedMetricWarning:\n",
      "\n",
      "Precision is ill-defined and being set to 0.0 due to no predicted samples. Use `zero_division` parameter to control this behavior.\n",
      "\n",
      "/home/quillaur/streamlit_apps/lib/python3.8/site-packages/sklearn/metrics/_classification.py:1318: UndefinedMetricWarning:\n",
      "\n",
      "Precision is ill-defined and being set to 0.0 due to no predicted samples. Use `zero_division` parameter to control this behavior.\n",
      "\n",
      "/home/quillaur/streamlit_apps/lib/python3.8/site-packages/sklearn/metrics/_classification.py:1318: UndefinedMetricWarning:\n",
      "\n",
      "Precision is ill-defined and being set to 0.0 due to no predicted samples. Use `zero_division` parameter to control this behavior.\n",
      "\n",
      "/home/quillaur/streamlit_apps/lib/python3.8/site-packages/sklearn/metrics/_classification.py:1318: UndefinedMetricWarning:\n",
      "\n",
      "Precision is ill-defined and being set to 0.0 due to no predicted samples. Use `zero_division` parameter to control this behavior.\n",
      "\n",
      "/home/quillaur/streamlit_apps/lib/python3.8/site-packages/sklearn/metrics/_classification.py:1318: UndefinedMetricWarning:\n",
      "\n",
      "Precision is ill-defined and being set to 0.0 due to no predicted samples. Use `zero_division` parameter to control this behavior.\n",
      "\n",
      "/home/quillaur/streamlit_apps/lib/python3.8/site-packages/sklearn/metrics/_classification.py:1318: UndefinedMetricWarning:\n",
      "\n",
      "Precision is ill-defined and being set to 0.0 due to no predicted samples. Use `zero_division` parameter to control this behavior.\n",
      "\n",
      "/home/quillaur/streamlit_apps/lib/python3.8/site-packages/sklearn/metrics/_classification.py:1318: UndefinedMetricWarning:\n",
      "\n",
      "Precision is ill-defined and being set to 0.0 due to no predicted samples. Use `zero_division` parameter to control this behavior.\n",
      "\n",
      "/home/quillaur/streamlit_apps/lib/python3.8/site-packages/sklearn/metrics/_classification.py:1318: UndefinedMetricWarning:\n",
      "\n",
      "Precision is ill-defined and being set to 0.0 due to no predicted samples. Use `zero_division` parameter to control this behavior.\n",
      "\n",
      "/home/quillaur/streamlit_apps/lib/python3.8/site-packages/sklearn/metrics/_classification.py:1318: UndefinedMetricWarning:\n",
      "\n",
      "Precision is ill-defined and being set to 0.0 due to no predicted samples. Use `zero_division` parameter to control this behavior.\n",
      "\n",
      "/home/quillaur/streamlit_apps/lib/python3.8/site-packages/sklearn/metrics/_classification.py:1318: UndefinedMetricWarning:\n",
      "\n",
      "Precision is ill-defined and being set to 0.0 due to no predicted samples. Use `zero_division` parameter to control this behavior.\n",
      "\n"
     ]
    }
   ],
   "source": [
    "clfs = []\n",
    "clfs.append(LogisticRegression(class_weight=class_weights))\n",
    "clfs.append(SVC(class_weight=class_weights))\n",
    "clfs.append(LinearSVC(class_weight=class_weights))\n",
    "clfs.append(GaussianNB())\n",
    "clfs.append(KNeighborsClassifier(n_neighbors=3))\n",
    "clfs.append(DecisionTreeClassifier(class_weight=class_weights))\n",
    "clfs.append(RandomForestClassifier(class_weight=class_weights))\n",
    "clfs.append(GradientBoostingClassifier())\n",
    "clfs.append(Perceptron(class_weight=class_weights))\n",
    "\n",
    "results = []\n",
    "\n",
    "for classifier in clfs:\n",
    "    pipeline.set_params(clf = classifier)\n",
    "    scores = cross_validate(pipeline, X_train, y_train, scoring=(\"roc_auc\", \"accuracy\", \"precision\", \"recall\"), error_score=\"raise\")\n",
    "\n",
    "    tmp_dict = {}\n",
    "    tmp_dict[\"classifier\"] = str(classifier)\n",
    "    for key, values in scores.items():\n",
    "            tmp_dict[f\"mean_{key}\"] = values.mean()\n",
    "            tmp_dict[f\"std_{key}\"] = values.std()\n",
    "    results.append(tmp_dict)"
   ]
  },
  {
   "cell_type": "code",
   "execution_count": 272,
   "metadata": {},
   "outputs": [
    {
     "data": {
      "text/html": [
       "<div>\n",
       "<style scoped>\n",
       "    .dataframe tbody tr th:only-of-type {\n",
       "        vertical-align: middle;\n",
       "    }\n",
       "\n",
       "    .dataframe tbody tr th {\n",
       "        vertical-align: top;\n",
       "    }\n",
       "\n",
       "    .dataframe thead th {\n",
       "        text-align: right;\n",
       "    }\n",
       "</style>\n",
       "<table border=\"1\" class=\"dataframe\">\n",
       "  <thead>\n",
       "    <tr style=\"text-align: right;\">\n",
       "      <th></th>\n",
       "      <th>classifier</th>\n",
       "      <th>mean_fit_time</th>\n",
       "      <th>std_fit_time</th>\n",
       "      <th>mean_score_time</th>\n",
       "      <th>std_score_time</th>\n",
       "      <th>mean_test_roc_auc</th>\n",
       "      <th>std_test_roc_auc</th>\n",
       "      <th>mean_test_accuracy</th>\n",
       "      <th>std_test_accuracy</th>\n",
       "      <th>mean_test_precision</th>\n",
       "      <th>std_test_precision</th>\n",
       "      <th>mean_test_recall</th>\n",
       "      <th>std_test_recall</th>\n",
       "    </tr>\n",
       "  </thead>\n",
       "  <tbody>\n",
       "    <tr>\n",
       "      <th>0</th>\n",
       "      <td>LogisticRegression(class_weight={0: 0.9356, 1:...</td>\n",
       "      <td>0.026803</td>\n",
       "      <td>0.014859</td>\n",
       "      <td>0.012468</td>\n",
       "      <td>0.003848</td>\n",
       "      <td>0.756006</td>\n",
       "      <td>0.024021</td>\n",
       "      <td>0.939000</td>\n",
       "      <td>0.000333</td>\n",
       "      <td>0.000000</td>\n",
       "      <td>0.000000</td>\n",
       "      <td>0.000000</td>\n",
       "      <td>0.000000</td>\n",
       "    </tr>\n",
       "    <tr>\n",
       "      <th>2</th>\n",
       "      <td>LinearSVC(class_weight={0: 0.9356, 1: 0.0644})</td>\n",
       "      <td>0.046675</td>\n",
       "      <td>0.001686</td>\n",
       "      <td>0.005432</td>\n",
       "      <td>0.000141</td>\n",
       "      <td>0.754123</td>\n",
       "      <td>0.020871</td>\n",
       "      <td>0.939000</td>\n",
       "      <td>0.000333</td>\n",
       "      <td>0.000000</td>\n",
       "      <td>0.000000</td>\n",
       "      <td>0.000000</td>\n",
       "      <td>0.000000</td>\n",
       "    </tr>\n",
       "    <tr>\n",
       "      <th>3</th>\n",
       "      <td>GaussianNB()</td>\n",
       "      <td>0.003975</td>\n",
       "      <td>0.000083</td>\n",
       "      <td>0.005248</td>\n",
       "      <td>0.000166</td>\n",
       "      <td>0.747537</td>\n",
       "      <td>0.047707</td>\n",
       "      <td>0.928167</td>\n",
       "      <td>0.003391</td>\n",
       "      <td>0.293349</td>\n",
       "      <td>0.074204</td>\n",
       "      <td>0.131248</td>\n",
       "      <td>0.044049</td>\n",
       "    </tr>\n",
       "    <tr>\n",
       "      <th>7</th>\n",
       "      <td>GradientBoostingClassifier()</td>\n",
       "      <td>0.391869</td>\n",
       "      <td>0.018002</td>\n",
       "      <td>0.007091</td>\n",
       "      <td>0.000160</td>\n",
       "      <td>0.735888</td>\n",
       "      <td>0.038476</td>\n",
       "      <td>0.936833</td>\n",
       "      <td>0.001780</td>\n",
       "      <td>0.331429</td>\n",
       "      <td>0.123685</td>\n",
       "      <td>0.041059</td>\n",
       "      <td>0.022967</td>\n",
       "    </tr>\n",
       "    <tr>\n",
       "      <th>6</th>\n",
       "      <td>RandomForestClassifier(class_weight={0: 0.9356...</td>\n",
       "      <td>0.493712</td>\n",
       "      <td>0.026813</td>\n",
       "      <td>0.047558</td>\n",
       "      <td>0.001797</td>\n",
       "      <td>0.690395</td>\n",
       "      <td>0.026874</td>\n",
       "      <td>0.928167</td>\n",
       "      <td>0.003629</td>\n",
       "      <td>0.212264</td>\n",
       "      <td>0.088106</td>\n",
       "      <td>0.065679</td>\n",
       "      <td>0.026670</td>\n",
       "    </tr>\n",
       "    <tr>\n",
       "      <th>4</th>\n",
       "      <td>KNeighborsClassifier(n_neighbors=3)</td>\n",
       "      <td>0.005140</td>\n",
       "      <td>0.000178</td>\n",
       "      <td>0.032389</td>\n",
       "      <td>0.002235</td>\n",
       "      <td>0.599525</td>\n",
       "      <td>0.026590</td>\n",
       "      <td>0.928667</td>\n",
       "      <td>0.002769</td>\n",
       "      <td>0.216714</td>\n",
       "      <td>0.072177</td>\n",
       "      <td>0.065679</td>\n",
       "      <td>0.023689</td>\n",
       "    </tr>\n",
       "    <tr>\n",
       "      <th>5</th>\n",
       "      <td>DecisionTreeClassifier(class_weight={0: 0.9356...</td>\n",
       "      <td>0.023474</td>\n",
       "      <td>0.003461</td>\n",
       "      <td>0.005456</td>\n",
       "      <td>0.000205</td>\n",
       "      <td>0.552383</td>\n",
       "      <td>0.030122</td>\n",
       "      <td>0.893333</td>\n",
       "      <td>0.009144</td>\n",
       "      <td>0.151929</td>\n",
       "      <td>0.048287</td>\n",
       "      <td>0.164050</td>\n",
       "      <td>0.059630</td>\n",
       "    </tr>\n",
       "    <tr>\n",
       "      <th>1</th>\n",
       "      <td>SVC(class_weight={0: 0.9356, 1: 0.0644})</td>\n",
       "      <td>0.089916</td>\n",
       "      <td>0.028997</td>\n",
       "      <td>0.055095</td>\n",
       "      <td>0.001665</td>\n",
       "      <td>0.510456</td>\n",
       "      <td>0.096187</td>\n",
       "      <td>0.939000</td>\n",
       "      <td>0.000333</td>\n",
       "      <td>0.000000</td>\n",
       "      <td>0.000000</td>\n",
       "      <td>0.000000</td>\n",
       "      <td>0.000000</td>\n",
       "    </tr>\n",
       "    <tr>\n",
       "      <th>8</th>\n",
       "      <td>Perceptron(class_weight={0: 0.9356, 1: 0.0644})</td>\n",
       "      <td>0.005121</td>\n",
       "      <td>0.000493</td>\n",
       "      <td>0.005207</td>\n",
       "      <td>0.000226</td>\n",
       "      <td>0.298705</td>\n",
       "      <td>0.016405</td>\n",
       "      <td>0.939000</td>\n",
       "      <td>0.000333</td>\n",
       "      <td>0.000000</td>\n",
       "      <td>0.000000</td>\n",
       "      <td>0.000000</td>\n",
       "      <td>0.000000</td>\n",
       "    </tr>\n",
       "  </tbody>\n",
       "</table>\n",
       "</div>"
      ],
      "text/plain": [
       "                                          classifier  mean_fit_time  \\\n",
       "0  LogisticRegression(class_weight={0: 0.9356, 1:...       0.026803   \n",
       "2     LinearSVC(class_weight={0: 0.9356, 1: 0.0644})       0.046675   \n",
       "3                                       GaussianNB()       0.003975   \n",
       "7                       GradientBoostingClassifier()       0.391869   \n",
       "6  RandomForestClassifier(class_weight={0: 0.9356...       0.493712   \n",
       "4                KNeighborsClassifier(n_neighbors=3)       0.005140   \n",
       "5  DecisionTreeClassifier(class_weight={0: 0.9356...       0.023474   \n",
       "1           SVC(class_weight={0: 0.9356, 1: 0.0644})       0.089916   \n",
       "8    Perceptron(class_weight={0: 0.9356, 1: 0.0644})       0.005121   \n",
       "\n",
       "   std_fit_time  mean_score_time  std_score_time  mean_test_roc_auc  \\\n",
       "0      0.014859         0.012468        0.003848           0.756006   \n",
       "2      0.001686         0.005432        0.000141           0.754123   \n",
       "3      0.000083         0.005248        0.000166           0.747537   \n",
       "7      0.018002         0.007091        0.000160           0.735888   \n",
       "6      0.026813         0.047558        0.001797           0.690395   \n",
       "4      0.000178         0.032389        0.002235           0.599525   \n",
       "5      0.003461         0.005456        0.000205           0.552383   \n",
       "1      0.028997         0.055095        0.001665           0.510456   \n",
       "8      0.000493         0.005207        0.000226           0.298705   \n",
       "\n",
       "   std_test_roc_auc  mean_test_accuracy  std_test_accuracy  \\\n",
       "0          0.024021            0.939000           0.000333   \n",
       "2          0.020871            0.939000           0.000333   \n",
       "3          0.047707            0.928167           0.003391   \n",
       "7          0.038476            0.936833           0.001780   \n",
       "6          0.026874            0.928167           0.003629   \n",
       "4          0.026590            0.928667           0.002769   \n",
       "5          0.030122            0.893333           0.009144   \n",
       "1          0.096187            0.939000           0.000333   \n",
       "8          0.016405            0.939000           0.000333   \n",
       "\n",
       "   mean_test_precision  std_test_precision  mean_test_recall  std_test_recall  \n",
       "0             0.000000            0.000000          0.000000         0.000000  \n",
       "2             0.000000            0.000000          0.000000         0.000000  \n",
       "3             0.293349            0.074204          0.131248         0.044049  \n",
       "7             0.331429            0.123685          0.041059         0.022967  \n",
       "6             0.212264            0.088106          0.065679         0.026670  \n",
       "4             0.216714            0.072177          0.065679         0.023689  \n",
       "5             0.151929            0.048287          0.164050         0.059630  \n",
       "1             0.000000            0.000000          0.000000         0.000000  \n",
       "8             0.000000            0.000000          0.000000         0.000000  "
      ]
     },
     "execution_count": 272,
     "metadata": {},
     "output_type": "execute_result"
    }
   ],
   "source": [
    "df_results = pd.DataFrame(results)\n",
    "df_results.sort_values(by=[\"mean_test_roc_auc\"], ascending=False)"
   ]
  },
  {
   "cell_type": "code",
   "execution_count": 273,
   "metadata": {},
   "outputs": [],
   "source": [
    "pipeline = Pipeline([\n",
    "    (\"imputer\", KNNImputer(n_neighbors=2)),\n",
    "    ('normalizer', StandardScaler()),\n",
    "    (\"dimension reduction\", PCA(n_components=0.9)),\n",
    "    ('clf', LogisticRegression()) \n",
    "])\n",
    "pipeline.fit(X_train, y_train)\n",
    "pipeline.score(X_test, y_test)\n",
    "# Retain proba only for the 1 class.\n",
    "y_pred = [proba[0] for proba in pipeline.predict_proba(X_test)]\n",
    "y_mira = X_test[\"score\"]"
   ]
  },
  {
   "cell_type": "code",
   "execution_count": 274,
   "metadata": {},
   "outputs": [
    {
     "data": {
      "image/png": "[encoded data removed]",
      "text/plain": [
       "<Figure size 432x288 with 1 Axes>"
      ]
     },
     "metadata": {
      "needs_background": "light"
     },
     "output_type": "display_data"
    }
   ],
   "source": [
    "plot_roc_curve(y_test, y_mira, \"miRabel\")"
   ]
  },
  {
   "cell_type": "code",
   "execution_count": 275,
   "metadata": {},
   "outputs": [
    {
     "data": {
      "image/png": "[encoded data removed]",
      "text/plain": [
       "<Figure size 432x288 with 1 Axes>"
      ]
     },
     "metadata": {
      "needs_background": "light"
     },
     "output_type": "display_data"
    }
   ],
   "source": [
    "plot_roc_curve(y_test, y_pred, str(pipeline[\"clf\"]))"
   ]
  },
  {
   "cell_type": "markdown",
   "metadata": {},
   "source": [
    "# Tokenization"
   ]
  },
  {
   "cell_type": "markdown",
   "metadata": {},
   "source": [
    "References: \n",
    "* [Bert usage with kmer tokens](https://watermark.silverchair.com/vbac023.pdf?token=AQECAHi208BE49Ooan9kkhW_Ercy7Dm3ZL_9Cf3qfKAc485ysgAAAucwggLjBgkqhkiG9w0BBwagggLUMIIC0AIBADCCAskGCSqGSIb3DQEHATAeBglghkgBZQMEAS4wEQQMpGtbXy6xl6WDviyyAgEQgIICmjh3jR35GW0GTRvVJ61tCIg1Im43hAF3iRcAei1BWcOLF5r5QroUnplkPmS2nyybT7R0wlJalZjwh-YTVbSvpXjkhSWgqKY7I6DiTxttsweGoby7_sWwRI6chMG6izES19tZJEYip78ygad5aimKs500uVtBdudly_6dH-OoPhheLpJ0pHNxvmoDJvyVwJOFIK-8ai1bdE9jBY1QB6cVP4mTqjLH2nwd0vCRkdi5gIg68rhVdxavbtSuLdMdBkWLXoEx440WIQwWnld-8wLUuc2efzf_8EPZK02cHMnDD6weM9t_uBY3J9dSiKqX5kbgXKrDKLzUx7TOZJH9xlDLRSZ7GHLaYnhHSArE8YTFMnq5mCLF4WY2FHnN5Nt7ChGwD28HUiJh3MJnuOvwApv6moIVlZl5ncqcoyS5Kn1OPzLh7HzVY3nOrpIvq4FIuBsvTM8sOaVSlfM4qC4yC_rvglP8U4-RSRYlrCgI3wbi3iVc2w9qio7ePua2UwEw4s1z29SjGrFRQfjBb4kBgyEH67MsQ5JVTTRBy-Uuf7ES5TSlnVDFnIdW9zKJ1_9AX3Msz3_QolTCPkIeELk5S_rxVZaQgnyrNKQEQzvQFUk-hOpNFw04Fc-kuSBQfIxGP-NJnds9XWZw8poNsaIPNI4GhRU4rDbtFFuI5S7uQCUp-01XkEfHG7Tjex0vufWYb--QmNrbcDtxRaDLgT6zF52Q6btkwgtDRGA6Cb3hmFzaPthU4h9lSEpQcU12H-Zv6K0YonOYkA0h8ZrKYzFO3VXrVDVj9syyZrWin1PVhTjRgroEsM4k1Yo81rjZwCwqsEf3JjvycJyPtVj_ERyFDuW2o4Ka3iwcvgRBxpCQjwKsLyFx2K76ubQeuvZ7aA)\n",
    "* [Another kmer tokenization exemple](https://www.biorxiv.org/content/10.1101/2020.09.17.301879v1.full.pdf)\n",
    "* [Other possibilities](https://arxiv.org/pdf/2204.06699.pdf)"
   ]
  },
  {
   "cell_type": "markdown",
   "metadata": {},
   "source": []
  }
 ],
 "metadata": {
  "kernelspec": {
   "display_name": "Python 3.8.10 ('streamlit_apps')",
   "language": "python",
   "name": "python3"
  },
  "language_info": {
   "codemirror_mode": {
    "name": "ipython",
    "version": 3
   },
   "file_extension": ".py",
   "mimetype": "text/x-python",
   "name": "python",
   "nbconvert_exporter": "python",
   "pygments_lexer": "ipython3",
   "version": "3.8.10"
  },
  "orig_nbformat": 4,
  "vscode": {
   "interpreter": {
    "hash": "435386a1a52ee9f43e8bf7b2fc6c74ca461b14b9f3142ce1ab962b5d82efa401"
   }
  }
 },
 "nbformat": 4,
 "nbformat_minor": 2
}
